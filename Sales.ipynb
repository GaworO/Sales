{
  "nbformat": 4,
  "nbformat_minor": 0,
  "metadata": {
    "colab": {
      "name": "Sales",
      "provenance": [],
      "collapsed_sections": [],
      "authorship_tag": "ABX9TyMPe23RjabQ6E8O75q/vB7V",
      "include_colab_link": true
    },
    "kernelspec": {
      "name": "python3",
      "display_name": "Python 3"
    },
    "language_info": {
      "name": "python"
    }
  },
  "cells": [
    {
      "cell_type": "markdown",
      "metadata": {
        "id": "view-in-github",
        "colab_type": "text"
      },
      "source": [
        "<a href=\"https://colab.research.google.com/github/GaworO/Sales/blob/main/Sales.ipynb\" target=\"_parent\"><img src=\"https://colab.research.google.com/assets/colab-badge.svg\" alt=\"Open In Colab\"/></a>"
      ]
    },
    {
      "cell_type": "code",
      "metadata": {
        "id": "TxamvwdopPDG"
      },
      "source": [
        "#This challenge serves as final project for the \"How to win a data science competition\" Coursera course.\n",
        "#In this competition you will work with a challenging time-series dataset consisting of daily sales data, \n",
        "#kindly provided by one of the largest Russian software firms - 1C Company. \n",
        "#We are asking you to predict total sales for every product and store in the next month. \n",
        "#By solving this competition you will be able to apply and enhance your data science skills."
      ],
      "execution_count": null,
      "outputs": []
    },
    {
      "cell_type": "code",
      "metadata": {
        "id": "BGAdmLTc7ydo"
      },
      "source": [
        "#ID - an Id that represents a (Shop, Item) tuple within the test set\n",
        "#shop_id - unique identifier of a shop\n",
        "#item_id - unique identifier of a product\n",
        "#item_category_id - unique identifier of item category\n",
        "#item_cnt_day - number of products sold. You are predicting a monthly amount of this measure\n",
        "#item_price - current price of an item\n",
        "#date - date in format dd/mm/yyyy\n",
        "#date_block_num - a consecutive month number, used for convenience. January 2013 is 0, February 2013 is 1,..., October 2015 is 33\n",
        "#item_name - name of item\n",
        "#shop_name - name of shop\n",
        "#item_category_name - name of item category\n",
        "#This dataset is permitted to be used for any purpose, including commercial use."
      ],
      "execution_count": null,
      "outputs": []
    },
    {
      "cell_type": "code",
      "metadata": {
        "colab": {
          "base_uri": "https://localhost:8080/"
        },
        "id": "z4XaGxu1qXZf",
        "outputId": "6bd63bdd-cad0-4896-c129-c4e9b4341bc5"
      },
      "source": [
        "import pandas as pd\n",
        "#from googletrans import Translator\n",
        "from google.colab import drive\n",
        "drive.mount('/content/drive')"
      ],
      "execution_count": null,
      "outputs": [
        {
          "output_type": "stream",
          "text": [
            "Mounted at /content/drive\n"
          ],
          "name": "stdout"
        }
      ]
    },
    {
      "cell_type": "code",
      "metadata": {
        "id": "kkB_vW6dqaIP"
      },
      "source": [
        "item_categories = pd.read_csv(\"/content/drive/MyDrive/Colab Notebooks/Kaggle Sales/data/item_categories.csv\", sep=\",\")\n",
        "items = pd.read_csv(\"/content/drive/MyDrive/Colab Notebooks/Kaggle Sales/data/items.csv\", sep=\",\")\n",
        "sales_train = pd.read_csv(\"/content/drive/MyDrive/Colab Notebooks/Kaggle Sales/data/sales_train.csv\", sep=\",\")\n",
        "sample_submission = pd.read_csv(\"/content/drive/MyDrive/Colab Notebooks/Kaggle Sales/data/sample_submission.csv\", sep=\",\")\n",
        "shops = pd.read_csv(\"/content/drive/MyDrive/Colab Notebooks/Kaggle Sales/data/shops.csv\", sep=\",\")\n",
        "test = pd.read_csv(\"/content/drive/MyDrive/Colab Notebooks/Kaggle Sales/data/test.csv\", sep=\",\")"
      ],
      "execution_count": null,
      "outputs": []
    },
    {
      "cell_type": "code",
      "metadata": {
        "id": "RK1e3a-Gxh2k"
      },
      "source": [
        "#The task is to forecast the total amount of products sold in every shop for the test set."
      ],
      "execution_count": null,
      "outputs": []
    },
    {
      "cell_type": "code",
      "metadata": {
        "colab": {
          "base_uri": "https://localhost:8080/",
          "height": 204
        },
        "id": "oJK7wYINwBTK",
        "outputId": "ea09e154-50f6-42dd-c214-d59a0c9a3f54"
      },
      "source": [
        "item_categories.head()"
      ],
      "execution_count": null,
      "outputs": [
        {
          "output_type": "execute_result",
          "data": {
            "text/html": [
              "<div>\n",
              "<style scoped>\n",
              "    .dataframe tbody tr th:only-of-type {\n",
              "        vertical-align: middle;\n",
              "    }\n",
              "\n",
              "    .dataframe tbody tr th {\n",
              "        vertical-align: top;\n",
              "    }\n",
              "\n",
              "    .dataframe thead th {\n",
              "        text-align: right;\n",
              "    }\n",
              "</style>\n",
              "<table border=\"1\" class=\"dataframe\">\n",
              "  <thead>\n",
              "    <tr style=\"text-align: right;\">\n",
              "      <th></th>\n",
              "      <th>item_category_name</th>\n",
              "      <th>item_category_id</th>\n",
              "    </tr>\n",
              "  </thead>\n",
              "  <tbody>\n",
              "    <tr>\n",
              "      <th>0</th>\n",
              "      <td>PC - Гарнитуры/Наушники</td>\n",
              "      <td>0</td>\n",
              "    </tr>\n",
              "    <tr>\n",
              "      <th>1</th>\n",
              "      <td>Аксессуары - PS2</td>\n",
              "      <td>1</td>\n",
              "    </tr>\n",
              "    <tr>\n",
              "      <th>2</th>\n",
              "      <td>Аксессуары - PS3</td>\n",
              "      <td>2</td>\n",
              "    </tr>\n",
              "    <tr>\n",
              "      <th>3</th>\n",
              "      <td>Аксессуары - PS4</td>\n",
              "      <td>3</td>\n",
              "    </tr>\n",
              "    <tr>\n",
              "      <th>4</th>\n",
              "      <td>Аксессуары - PSP</td>\n",
              "      <td>4</td>\n",
              "    </tr>\n",
              "  </tbody>\n",
              "</table>\n",
              "</div>"
            ],
            "text/plain": [
              "        item_category_name  item_category_id\n",
              "0  PC - Гарнитуры/Наушники                 0\n",
              "1         Аксессуары - PS2                 1\n",
              "2         Аксессуары - PS3                 2\n",
              "3         Аксессуары - PS4                 3\n",
              "4         Аксессуары - PSP                 4"
            ]
          },
          "metadata": {
            "tags": []
          },
          "execution_count": 3
        }
      ]
    },
    {
      "cell_type": "code",
      "metadata": {
        "colab": {
          "base_uri": "https://localhost:8080/",
          "height": 204
        },
        "id": "1kL0Tv2CwDNO",
        "outputId": "9b32c8e7-4a0c-4d49-bce9-179250ea2f94"
      },
      "source": [
        "items.head()"
      ],
      "execution_count": null,
      "outputs": [
        {
          "output_type": "execute_result",
          "data": {
            "text/html": [
              "<div>\n",
              "<style scoped>\n",
              "    .dataframe tbody tr th:only-of-type {\n",
              "        vertical-align: middle;\n",
              "    }\n",
              "\n",
              "    .dataframe tbody tr th {\n",
              "        vertical-align: top;\n",
              "    }\n",
              "\n",
              "    .dataframe thead th {\n",
              "        text-align: right;\n",
              "    }\n",
              "</style>\n",
              "<table border=\"1\" class=\"dataframe\">\n",
              "  <thead>\n",
              "    <tr style=\"text-align: right;\">\n",
              "      <th></th>\n",
              "      <th>item_name</th>\n",
              "      <th>item_id</th>\n",
              "      <th>item_category_id</th>\n",
              "    </tr>\n",
              "  </thead>\n",
              "  <tbody>\n",
              "    <tr>\n",
              "      <th>0</th>\n",
              "      <td>! ВО ВЛАСТИ НАВАЖДЕНИЯ (ПЛАСТ.)         D</td>\n",
              "      <td>0</td>\n",
              "      <td>40</td>\n",
              "    </tr>\n",
              "    <tr>\n",
              "      <th>1</th>\n",
              "      <td>!ABBYY FineReader 12 Professional Edition Full...</td>\n",
              "      <td>1</td>\n",
              "      <td>76</td>\n",
              "    </tr>\n",
              "    <tr>\n",
              "      <th>2</th>\n",
              "      <td>***В ЛУЧАХ СЛАВЫ   (UNV)                    D</td>\n",
              "      <td>2</td>\n",
              "      <td>40</td>\n",
              "    </tr>\n",
              "    <tr>\n",
              "      <th>3</th>\n",
              "      <td>***ГОЛУБАЯ ВОЛНА  (Univ)                      D</td>\n",
              "      <td>3</td>\n",
              "      <td>40</td>\n",
              "    </tr>\n",
              "    <tr>\n",
              "      <th>4</th>\n",
              "      <td>***КОРОБКА (СТЕКЛО)                       D</td>\n",
              "      <td>4</td>\n",
              "      <td>40</td>\n",
              "    </tr>\n",
              "  </tbody>\n",
              "</table>\n",
              "</div>"
            ],
            "text/plain": [
              "                                           item_name  item_id  item_category_id\n",
              "0          ! ВО ВЛАСТИ НАВАЖДЕНИЯ (ПЛАСТ.)         D        0                40\n",
              "1  !ABBYY FineReader 12 Professional Edition Full...        1                76\n",
              "2      ***В ЛУЧАХ СЛАВЫ   (UNV)                    D        2                40\n",
              "3    ***ГОЛУБАЯ ВОЛНА  (Univ)                      D        3                40\n",
              "4        ***КОРОБКА (СТЕКЛО)                       D        4                40"
            ]
          },
          "metadata": {
            "tags": []
          },
          "execution_count": 4
        }
      ]
    },
    {
      "cell_type": "code",
      "metadata": {
        "id": "FcWdfZ260MXZ"
      },
      "source": [
        "item_categories = item_categories.join(items.set_index('item_category_id'), on='item_category_id')"
      ],
      "execution_count": null,
      "outputs": []
    },
    {
      "cell_type": "code",
      "metadata": {
        "colab": {
          "base_uri": "https://localhost:8080/",
          "height": 80
        },
        "id": "TlVxKbngxndw",
        "outputId": "4152d9d8-f267-4cda-ab8f-4c79eef9e2f9"
      },
      "source": [
        "#select one category id as an exmple\n",
        "item_categories[item_categories[\"item_category_id\"] == 51]"
      ],
      "execution_count": null,
      "outputs": [
        {
          "output_type": "execute_result",
          "data": {
            "text/html": [
              "<div>\n",
              "<style scoped>\n",
              "    .dataframe tbody tr th:only-of-type {\n",
              "        vertical-align: middle;\n",
              "    }\n",
              "\n",
              "    .dataframe tbody tr th {\n",
              "        vertical-align: top;\n",
              "    }\n",
              "\n",
              "    .dataframe thead th {\n",
              "        text-align: right;\n",
              "    }\n",
              "</style>\n",
              "<table border=\"1\" class=\"dataframe\">\n",
              "  <thead>\n",
              "    <tr style=\"text-align: right;\">\n",
              "      <th></th>\n",
              "      <th>item_category_name</th>\n",
              "      <th>item_category_id</th>\n",
              "      <th>item_name</th>\n",
              "      <th>item_id</th>\n",
              "    </tr>\n",
              "  </thead>\n",
              "  <tbody>\n",
              "    <tr>\n",
              "      <th>51</th>\n",
              "      <td>Книги - Познавательная литература</td>\n",
              "      <td>51</td>\n",
              "      <td>Правила дорожного движения 2009. Новейшая мето...</td>\n",
              "      <td>17703</td>\n",
              "    </tr>\n",
              "  </tbody>\n",
              "</table>\n",
              "</div>"
            ],
            "text/plain": [
              "                   item_category_name  ...  item_id\n",
              "51  Книги - Познавательная литература  ...    17703\n",
              "\n",
              "[1 rows x 4 columns]"
            ]
          },
          "metadata": {
            "tags": []
          },
          "execution_count": 6
        }
      ]
    },
    {
      "cell_type": "code",
      "metadata": {
        "id": "OEs9Ex8YyP5L"
      },
      "source": [
        "#join item categories with sales prodcuts to get the date and prices\n",
        "sales_products = sales_train.join(item_categories.set_index(\"item_id\"), on=\"item_id\")"
      ],
      "execution_count": null,
      "outputs": []
    },
    {
      "cell_type": "code",
      "metadata": {
        "colab": {
          "base_uri": "https://localhost:8080/",
          "height": 425
        },
        "id": "MG-BDnrTyqOa",
        "outputId": "9430bc70-2105-4871-85c5-c691ec8da6b9"
      },
      "source": [
        "sales_products.head()"
      ],
      "execution_count": null,
      "outputs": [
        {
          "output_type": "execute_result",
          "data": {
            "text/html": [
              "<div>\n",
              "<style scoped>\n",
              "    .dataframe tbody tr th:only-of-type {\n",
              "        vertical-align: middle;\n",
              "    }\n",
              "\n",
              "    .dataframe tbody tr th {\n",
              "        vertical-align: top;\n",
              "    }\n",
              "\n",
              "    .dataframe thead th {\n",
              "        text-align: right;\n",
              "    }\n",
              "</style>\n",
              "<table border=\"1\" class=\"dataframe\">\n",
              "  <thead>\n",
              "    <tr style=\"text-align: right;\">\n",
              "      <th></th>\n",
              "      <th>date</th>\n",
              "      <th>date_block_num</th>\n",
              "      <th>shop_id</th>\n",
              "      <th>item_id</th>\n",
              "      <th>item_price</th>\n",
              "      <th>item_cnt_day</th>\n",
              "      <th>item_category_name</th>\n",
              "      <th>item_category_id</th>\n",
              "      <th>item_name</th>\n",
              "    </tr>\n",
              "  </thead>\n",
              "  <tbody>\n",
              "    <tr>\n",
              "      <th>0</th>\n",
              "      <td>02.01.2013</td>\n",
              "      <td>0</td>\n",
              "      <td>59</td>\n",
              "      <td>22154</td>\n",
              "      <td>999.00</td>\n",
              "      <td>1.0</td>\n",
              "      <td>Кино - Blu-Ray</td>\n",
              "      <td>37</td>\n",
              "      <td>ЯВЛЕНИЕ 2012 (BD)</td>\n",
              "    </tr>\n",
              "    <tr>\n",
              "      <th>1</th>\n",
              "      <td>03.01.2013</td>\n",
              "      <td>0</td>\n",
              "      <td>25</td>\n",
              "      <td>2552</td>\n",
              "      <td>899.00</td>\n",
              "      <td>1.0</td>\n",
              "      <td>Музыка - Винил</td>\n",
              "      <td>58</td>\n",
              "      <td>DEEP PURPLE  The House Of Blue Light  LP</td>\n",
              "    </tr>\n",
              "    <tr>\n",
              "      <th>2</th>\n",
              "      <td>05.01.2013</td>\n",
              "      <td>0</td>\n",
              "      <td>25</td>\n",
              "      <td>2552</td>\n",
              "      <td>899.00</td>\n",
              "      <td>-1.0</td>\n",
              "      <td>Музыка - Винил</td>\n",
              "      <td>58</td>\n",
              "      <td>DEEP PURPLE  The House Of Blue Light  LP</td>\n",
              "    </tr>\n",
              "    <tr>\n",
              "      <th>3</th>\n",
              "      <td>06.01.2013</td>\n",
              "      <td>0</td>\n",
              "      <td>25</td>\n",
              "      <td>2554</td>\n",
              "      <td>1709.05</td>\n",
              "      <td>1.0</td>\n",
              "      <td>Музыка - Винил</td>\n",
              "      <td>58</td>\n",
              "      <td>DEEP PURPLE  Who Do You Think We Are  LP</td>\n",
              "    </tr>\n",
              "    <tr>\n",
              "      <th>4</th>\n",
              "      <td>15.01.2013</td>\n",
              "      <td>0</td>\n",
              "      <td>25</td>\n",
              "      <td>2555</td>\n",
              "      <td>1099.00</td>\n",
              "      <td>1.0</td>\n",
              "      <td>Музыка - CD фирменного производства</td>\n",
              "      <td>56</td>\n",
              "      <td>DEEP PURPLE 30 Very Best Of 2CD (Фирм.)</td>\n",
              "    </tr>\n",
              "  </tbody>\n",
              "</table>\n",
              "</div>"
            ],
            "text/plain": [
              "         date  ...                                 item_name\n",
              "0  02.01.2013  ...                         ЯВЛЕНИЕ 2012 (BD)\n",
              "1  03.01.2013  ...  DEEP PURPLE  The House Of Blue Light  LP\n",
              "2  05.01.2013  ...  DEEP PURPLE  The House Of Blue Light  LP\n",
              "3  06.01.2013  ...  DEEP PURPLE  Who Do You Think We Are  LP\n",
              "4  15.01.2013  ...   DEEP PURPLE 30 Very Best Of 2CD (Фирм.)\n",
              "\n",
              "[5 rows x 9 columns]"
            ]
          },
          "metadata": {
            "tags": []
          },
          "execution_count": 8
        }
      ]
    },
    {
      "cell_type": "code",
      "metadata": {
        "colab": {
          "base_uri": "https://localhost:8080/",
          "height": 213
        },
        "id": "dfaX2Uf9x69T",
        "outputId": "3a8cd8ae-27ce-4acd-edba-c80300cff5a6"
      },
      "source": [
        "sales_products[sales_products[\"shop_id\"] == 59].loc[sales_products['item_id'] == 22151]\n",
        "#.where(\"sales_products\" == \"22154\")"
      ],
      "execution_count": null,
      "outputs": [
        {
          "output_type": "execute_result",
          "data": {
            "text/html": [
              "<div>\n",
              "<style scoped>\n",
              "    .dataframe tbody tr th:only-of-type {\n",
              "        vertical-align: middle;\n",
              "    }\n",
              "\n",
              "    .dataframe tbody tr th {\n",
              "        vertical-align: top;\n",
              "    }\n",
              "\n",
              "    .dataframe thead th {\n",
              "        text-align: right;\n",
              "    }\n",
              "</style>\n",
              "<table border=\"1\" class=\"dataframe\">\n",
              "  <thead>\n",
              "    <tr style=\"text-align: right;\">\n",
              "      <th></th>\n",
              "      <th>date</th>\n",
              "      <th>date_block_num</th>\n",
              "      <th>shop_id</th>\n",
              "      <th>item_id</th>\n",
              "      <th>item_price</th>\n",
              "      <th>item_cnt_day</th>\n",
              "      <th>item_category_name</th>\n",
              "      <th>item_category_id</th>\n",
              "      <th>item_name</th>\n",
              "    </tr>\n",
              "  </thead>\n",
              "  <tbody>\n",
              "    <tr>\n",
              "      <th>40084</th>\n",
              "      <td>10.01.2013</td>\n",
              "      <td>0</td>\n",
              "      <td>59</td>\n",
              "      <td>22151</td>\n",
              "      <td>399.0</td>\n",
              "      <td>1.0</td>\n",
              "      <td>Кино - DVD</td>\n",
              "      <td>40</td>\n",
              "      <td>ЯВЛЕНИЕ (2012)</td>\n",
              "    </tr>\n",
              "    <tr>\n",
              "      <th>78663</th>\n",
              "      <td>02.01.2013</td>\n",
              "      <td>0</td>\n",
              "      <td>59</td>\n",
              "      <td>22151</td>\n",
              "      <td>399.0</td>\n",
              "      <td>1.0</td>\n",
              "      <td>Кино - DVD</td>\n",
              "      <td>40</td>\n",
              "      <td>ЯВЛЕНИЕ (2012)</td>\n",
              "    </tr>\n",
              "    <tr>\n",
              "      <th>342905</th>\n",
              "      <td>30.03.2013</td>\n",
              "      <td>2</td>\n",
              "      <td>59</td>\n",
              "      <td>22151</td>\n",
              "      <td>399.0</td>\n",
              "      <td>1.0</td>\n",
              "      <td>Кино - DVD</td>\n",
              "      <td>40</td>\n",
              "      <td>ЯВЛЕНИЕ (2012)</td>\n",
              "    </tr>\n",
              "  </tbody>\n",
              "</table>\n",
              "</div>"
            ],
            "text/plain": [
              "              date  date_block_num  ...  item_category_id       item_name\n",
              "40084   10.01.2013               0  ...                40  ЯВЛЕНИЕ (2012)\n",
              "78663   02.01.2013               0  ...                40  ЯВЛЕНИЕ (2012)\n",
              "342905  30.03.2013               2  ...                40  ЯВЛЕНИЕ (2012)\n",
              "\n",
              "[3 rows x 9 columns]"
            ]
          },
          "metadata": {
            "tags": []
          },
          "execution_count": 66
        }
      ]
    },
    {
      "cell_type": "code",
      "metadata": {
        "id": "OgIRyF8U-xIT"
      },
      "source": [
        ""
      ],
      "execution_count": null,
      "outputs": []
    },
    {
      "cell_type": "code",
      "metadata": {
        "colab": {
          "base_uri": "https://localhost:8080/",
          "height": 450
        },
        "id": "KbayhHRRwT0N",
        "outputId": "ed0c7178-f0a6-4ac4-82c9-e281b38e0dc9"
      },
      "source": [
        "#have a look which categories have the most and the least products\n",
        "item_categories.groupby([\"item_category_id\"]).agg({\"item_id\": \"count\"}).sort_values(by=\"item_id\", ascending=False)"
      ],
      "execution_count": null,
      "outputs": [
        {
          "output_type": "execute_result",
          "data": {
            "text/html": [
              "<div>\n",
              "<style scoped>\n",
              "    .dataframe tbody tr th:only-of-type {\n",
              "        vertical-align: middle;\n",
              "    }\n",
              "\n",
              "    .dataframe tbody tr th {\n",
              "        vertical-align: top;\n",
              "    }\n",
              "\n",
              "    .dataframe thead th {\n",
              "        text-align: right;\n",
              "    }\n",
              "</style>\n",
              "<table border=\"1\" class=\"dataframe\">\n",
              "  <thead>\n",
              "    <tr style=\"text-align: right;\">\n",
              "      <th></th>\n",
              "      <th>item_id</th>\n",
              "    </tr>\n",
              "    <tr>\n",
              "      <th>item_category_id</th>\n",
              "      <th></th>\n",
              "    </tr>\n",
              "  </thead>\n",
              "  <tbody>\n",
              "    <tr>\n",
              "      <th>40</th>\n",
              "      <td>5035</td>\n",
              "    </tr>\n",
              "    <tr>\n",
              "      <th>55</th>\n",
              "      <td>2365</td>\n",
              "    </tr>\n",
              "    <tr>\n",
              "      <th>37</th>\n",
              "      <td>1780</td>\n",
              "    </tr>\n",
              "    <tr>\n",
              "      <th>31</th>\n",
              "      <td>1125</td>\n",
              "    </tr>\n",
              "    <tr>\n",
              "      <th>58</th>\n",
              "      <td>790</td>\n",
              "    </tr>\n",
              "    <tr>\n",
              "      <th>...</th>\n",
              "      <td>...</td>\n",
              "    </tr>\n",
              "    <tr>\n",
              "      <th>1</th>\n",
              "      <td>2</td>\n",
              "    </tr>\n",
              "    <tr>\n",
              "      <th>50</th>\n",
              "      <td>2</td>\n",
              "    </tr>\n",
              "    <tr>\n",
              "      <th>10</th>\n",
              "      <td>1</td>\n",
              "    </tr>\n",
              "    <tr>\n",
              "      <th>79</th>\n",
              "      <td>1</td>\n",
              "    </tr>\n",
              "    <tr>\n",
              "      <th>51</th>\n",
              "      <td>1</td>\n",
              "    </tr>\n",
              "  </tbody>\n",
              "</table>\n",
              "<p>84 rows × 1 columns</p>\n",
              "</div>"
            ],
            "text/plain": [
              "                  item_id\n",
              "item_category_id         \n",
              "40                   5035\n",
              "55                   2365\n",
              "37                   1780\n",
              "31                   1125\n",
              "58                    790\n",
              "...                   ...\n",
              "1                       2\n",
              "50                      2\n",
              "10                      1\n",
              "79                      1\n",
              "51                      1\n",
              "\n",
              "[84 rows x 1 columns]"
            ]
          },
          "metadata": {
            "tags": []
          },
          "execution_count": 20
        }
      ]
    },
    {
      "cell_type": "code",
      "metadata": {
        "colab": {
          "base_uri": "https://localhost:8080/",
          "height": 830
        },
        "id": "k5Mh6WLZ-FaA",
        "outputId": "8ff7b7bd-d5f0-4ad7-cc6f-0025a730842c"
      },
      "source": [
        "sales_products[sales_products[\"shop_id\"] == 59]"
      ],
      "execution_count": null,
      "outputs": [
        {
          "output_type": "execute_result",
          "data": {
            "text/html": [
              "<div>\n",
              "<style scoped>\n",
              "    .dataframe tbody tr th:only-of-type {\n",
              "        vertical-align: middle;\n",
              "    }\n",
              "\n",
              "    .dataframe tbody tr th {\n",
              "        vertical-align: top;\n",
              "    }\n",
              "\n",
              "    .dataframe thead th {\n",
              "        text-align: right;\n",
              "    }\n",
              "</style>\n",
              "<table border=\"1\" class=\"dataframe\">\n",
              "  <thead>\n",
              "    <tr style=\"text-align: right;\">\n",
              "      <th></th>\n",
              "      <th>date</th>\n",
              "      <th>date_block_num</th>\n",
              "      <th>shop_id</th>\n",
              "      <th>item_id</th>\n",
              "      <th>item_price</th>\n",
              "      <th>item_cnt_day</th>\n",
              "      <th>item_category_name</th>\n",
              "      <th>item_category_id</th>\n",
              "      <th>item_name</th>\n",
              "    </tr>\n",
              "  </thead>\n",
              "  <tbody>\n",
              "    <tr>\n",
              "      <th>0</th>\n",
              "      <td>02.01.2013</td>\n",
              "      <td>0</td>\n",
              "      <td>59</td>\n",
              "      <td>22154</td>\n",
              "      <td>999.0</td>\n",
              "      <td>1.0</td>\n",
              "      <td>Кино - Blu-Ray</td>\n",
              "      <td>37</td>\n",
              "      <td>ЯВЛЕНИЕ 2012 (BD)</td>\n",
              "    </tr>\n",
              "    <tr>\n",
              "      <th>40084</th>\n",
              "      <td>10.01.2013</td>\n",
              "      <td>0</td>\n",
              "      <td>59</td>\n",
              "      <td>22151</td>\n",
              "      <td>399.0</td>\n",
              "      <td>1.0</td>\n",
              "      <td>Кино - DVD</td>\n",
              "      <td>40</td>\n",
              "      <td>ЯВЛЕНИЕ (2012)</td>\n",
              "    </tr>\n",
              "    <tr>\n",
              "      <th>77502</th>\n",
              "      <td>04.01.2013</td>\n",
              "      <td>0</td>\n",
              "      <td>59</td>\n",
              "      <td>5603</td>\n",
              "      <td>699.0</td>\n",
              "      <td>1.0</td>\n",
              "      <td>Аксессуары - PSVita</td>\n",
              "      <td>5</td>\n",
              "      <td>PS Vita: Чехол 4gamers Travel Case дорожный го...</td>\n",
              "    </tr>\n",
              "    <tr>\n",
              "      <th>77503</th>\n",
              "      <td>19.01.2013</td>\n",
              "      <td>0</td>\n",
              "      <td>59</td>\n",
              "      <td>5587</td>\n",
              "      <td>199.0</td>\n",
              "      <td>2.0</td>\n",
              "      <td>Аксессуары - PSVita</td>\n",
              "      <td>5</td>\n",
              "      <td>PS Vita/PSP: Наушники Hama HK-3023</td>\n",
              "    </tr>\n",
              "    <tr>\n",
              "      <th>77504</th>\n",
              "      <td>31.01.2013</td>\n",
              "      <td>0</td>\n",
              "      <td>59</td>\n",
              "      <td>5613</td>\n",
              "      <td>5571.0</td>\n",
              "      <td>1.0</td>\n",
              "      <td>Аксессуары - PS3</td>\n",
              "      <td>2</td>\n",
              "      <td>PS3: Гарнитура беспроводная для PS3 (с поддерж...</td>\n",
              "    </tr>\n",
              "    <tr>\n",
              "      <th>...</th>\n",
              "      <td>...</td>\n",
              "      <td>...</td>\n",
              "      <td>...</td>\n",
              "      <td>...</td>\n",
              "      <td>...</td>\n",
              "      <td>...</td>\n",
              "      <td>...</td>\n",
              "      <td>...</td>\n",
              "      <td>...</td>\n",
              "    </tr>\n",
              "    <tr>\n",
              "      <th>2899654</th>\n",
              "      <td>10.10.2015</td>\n",
              "      <td>33</td>\n",
              "      <td>59</td>\n",
              "      <td>4962</td>\n",
              "      <td>298.0</td>\n",
              "      <td>1.0</td>\n",
              "      <td>Игры PC - Стандартные издания</td>\n",
              "      <td>30</td>\n",
              "      <td>Murdered: Soul Suspect [PC, Jewel, русская вер...</td>\n",
              "    </tr>\n",
              "    <tr>\n",
              "      <th>2899655</th>\n",
              "      <td>04.10.2015</td>\n",
              "      <td>33</td>\n",
              "      <td>59</td>\n",
              "      <td>4706</td>\n",
              "      <td>299.0</td>\n",
              "      <td>1.0</td>\n",
              "      <td>Музыка - CD локального производства</td>\n",
              "      <td>55</td>\n",
              "      <td>MUSE  Drones</td>\n",
              "    </tr>\n",
              "    <tr>\n",
              "      <th>2899656</th>\n",
              "      <td>11.10.2015</td>\n",
              "      <td>33</td>\n",
              "      <td>59</td>\n",
              "      <td>5002</td>\n",
              "      <td>2999.0</td>\n",
              "      <td>1.0</td>\n",
              "      <td>Игры - PS3</td>\n",
              "      <td>19</td>\n",
              "      <td>NBA 2K16 [PS3, русская документация]</td>\n",
              "    </tr>\n",
              "    <tr>\n",
              "      <th>2899657</th>\n",
              "      <td>15.10.2015</td>\n",
              "      <td>33</td>\n",
              "      <td>59</td>\n",
              "      <td>5233</td>\n",
              "      <td>1199.0</td>\n",
              "      <td>1.0</td>\n",
              "      <td>Игры - PS3</td>\n",
              "      <td>19</td>\n",
              "      <td>Need for Speed Rivals (Essentials) [PS3, русск...</td>\n",
              "    </tr>\n",
              "    <tr>\n",
              "      <th>2899658</th>\n",
              "      <td>21.10.2015</td>\n",
              "      <td>33</td>\n",
              "      <td>59</td>\n",
              "      <td>5039</td>\n",
              "      <td>1499.0</td>\n",
              "      <td>1.0</td>\n",
              "      <td>Игры - XBOX 360</td>\n",
              "      <td>23</td>\n",
              "      <td>NHL 15 [Xbox 360, русские субтитры]</td>\n",
              "    </tr>\n",
              "  </tbody>\n",
              "</table>\n",
              "<p>42108 rows × 9 columns</p>\n",
              "</div>"
            ],
            "text/plain": [
              "               date  ...                                          item_name\n",
              "0        02.01.2013  ...                                  ЯВЛЕНИЕ 2012 (BD)\n",
              "40084    10.01.2013  ...                                     ЯВЛЕНИЕ (2012)\n",
              "77502    04.01.2013  ...  PS Vita: Чехол 4gamers Travel Case дорожный го...\n",
              "77503    19.01.2013  ...                 PS Vita/PSP: Наушники Hama HK-3023\n",
              "77504    31.01.2013  ...  PS3: Гарнитура беспроводная для PS3 (с поддерж...\n",
              "...             ...  ...                                                ...\n",
              "2899654  10.10.2015  ...  Murdered: Soul Suspect [PC, Jewel, русская вер...\n",
              "2899655  04.10.2015  ...                                       MUSE  Drones\n",
              "2899656  11.10.2015  ...               NBA 2K16 [PS3, русская документация]\n",
              "2899657  15.10.2015  ...  Need for Speed Rivals (Essentials) [PS3, русск...\n",
              "2899658  21.10.2015  ...                NHL 15 [Xbox 360, русские субтитры]\n",
              "\n",
              "[42108 rows x 9 columns]"
            ]
          },
          "metadata": {
            "tags": []
          },
          "execution_count": 58
        }
      ]
    }
  ]
}